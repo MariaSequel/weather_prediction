{
 "cells": [
  {
   "cell_type": "code",
   "execution_count": 1,
   "id": "b6014b0a",
   "metadata": {},
   "outputs": [],
   "source": [
    "import pandas as pd"
   ]
  },
  {
   "cell_type": "code",
   "execution_count": 2,
   "id": "fce6aff0",
   "metadata": {},
   "outputs": [],
   "source": [
    "weather = pd.read_csv(\"dfw_weather.csv\", index_col=\"DATE\", low_memory=False)"
   ]
  },
  {
   "cell_type": "code",
   "execution_count": 3,
   "id": "a7557b5c",
   "metadata": {},
   "outputs": [
    {
     "data": {
      "text/html": [
       "<div>\n",
       "<style scoped>\n",
       "    .dataframe tbody tr th:only-of-type {\n",
       "        vertical-align: middle;\n",
       "    }\n",
       "\n",
       "    .dataframe tbody tr th {\n",
       "        vertical-align: top;\n",
       "    }\n",
       "\n",
       "    .dataframe thead th {\n",
       "        text-align: right;\n",
       "    }\n",
       "</style>\n",
       "<table border=\"1\" class=\"dataframe\">\n",
       "  <thead>\n",
       "    <tr style=\"text-align: right;\">\n",
       "      <th></th>\n",
       "      <th>STATION</th>\n",
       "      <th>NAME</th>\n",
       "      <th>LATITUDE</th>\n",
       "      <th>LONGITUDE</th>\n",
       "      <th>ELEVATION</th>\n",
       "      <th>ACMH</th>\n",
       "      <th>ACMH_ATTRIBUTES</th>\n",
       "      <th>ACSH</th>\n",
       "      <th>ACSH_ATTRIBUTES</th>\n",
       "      <th>AWND</th>\n",
       "      <th>...</th>\n",
       "      <th>WT18</th>\n",
       "      <th>WT18_ATTRIBUTES</th>\n",
       "      <th>WT19</th>\n",
       "      <th>WT19_ATTRIBUTES</th>\n",
       "      <th>WT21</th>\n",
       "      <th>WT21_ATTRIBUTES</th>\n",
       "      <th>WT22</th>\n",
       "      <th>WT22_ATTRIBUTES</th>\n",
       "      <th>WV03</th>\n",
       "      <th>WV03_ATTRIBUTES</th>\n",
       "    </tr>\n",
       "    <tr>\n",
       "      <th>DATE</th>\n",
       "      <th></th>\n",
       "      <th></th>\n",
       "      <th></th>\n",
       "      <th></th>\n",
       "      <th></th>\n",
       "      <th></th>\n",
       "      <th></th>\n",
       "      <th></th>\n",
       "      <th></th>\n",
       "      <th></th>\n",
       "      <th></th>\n",
       "      <th></th>\n",
       "      <th></th>\n",
       "      <th></th>\n",
       "      <th></th>\n",
       "      <th></th>\n",
       "      <th></th>\n",
       "      <th></th>\n",
       "      <th></th>\n",
       "      <th></th>\n",
       "      <th></th>\n",
       "    </tr>\n",
       "  </thead>\n",
       "  <tbody>\n",
       "    <tr>\n",
       "      <th>1948-01-01</th>\n",
       "      <td>USW00003927</td>\n",
       "      <td>DAL FTW WSCMO AIRPORT, TX US</td>\n",
       "      <td>32.89744</td>\n",
       "      <td>-97.02196</td>\n",
       "      <td>165.7</td>\n",
       "      <td>NaN</td>\n",
       "      <td>NaN</td>\n",
       "      <td>NaN</td>\n",
       "      <td>NaN</td>\n",
       "      <td>NaN</td>\n",
       "      <td>...</td>\n",
       "      <td>NaN</td>\n",
       "      <td>NaN</td>\n",
       "      <td>NaN</td>\n",
       "      <td>NaN</td>\n",
       "      <td>NaN</td>\n",
       "      <td>NaN</td>\n",
       "      <td>NaN</td>\n",
       "      <td>NaN</td>\n",
       "      <td>NaN</td>\n",
       "      <td>NaN</td>\n",
       "    </tr>\n",
       "    <tr>\n",
       "      <th>1948-01-02</th>\n",
       "      <td>USW00003927</td>\n",
       "      <td>DAL FTW WSCMO AIRPORT, TX US</td>\n",
       "      <td>32.89744</td>\n",
       "      <td>-97.02196</td>\n",
       "      <td>165.7</td>\n",
       "      <td>NaN</td>\n",
       "      <td>NaN</td>\n",
       "      <td>NaN</td>\n",
       "      <td>NaN</td>\n",
       "      <td>NaN</td>\n",
       "      <td>...</td>\n",
       "      <td>NaN</td>\n",
       "      <td>NaN</td>\n",
       "      <td>NaN</td>\n",
       "      <td>NaN</td>\n",
       "      <td>NaN</td>\n",
       "      <td>NaN</td>\n",
       "      <td>NaN</td>\n",
       "      <td>NaN</td>\n",
       "      <td>NaN</td>\n",
       "      <td>NaN</td>\n",
       "    </tr>\n",
       "    <tr>\n",
       "      <th>1948-01-08</th>\n",
       "      <td>USW00003927</td>\n",
       "      <td>DAL FTW WSCMO AIRPORT, TX US</td>\n",
       "      <td>32.89744</td>\n",
       "      <td>-97.02196</td>\n",
       "      <td>165.7</td>\n",
       "      <td>NaN</td>\n",
       "      <td>NaN</td>\n",
       "      <td>NaN</td>\n",
       "      <td>NaN</td>\n",
       "      <td>NaN</td>\n",
       "      <td>...</td>\n",
       "      <td>NaN</td>\n",
       "      <td>NaN</td>\n",
       "      <td>NaN</td>\n",
       "      <td>NaN</td>\n",
       "      <td>NaN</td>\n",
       "      <td>NaN</td>\n",
       "      <td>NaN</td>\n",
       "      <td>NaN</td>\n",
       "      <td>NaN</td>\n",
       "      <td>NaN</td>\n",
       "    </tr>\n",
       "    <tr>\n",
       "      <th>1948-01-09</th>\n",
       "      <td>USW00003927</td>\n",
       "      <td>DAL FTW WSCMO AIRPORT, TX US</td>\n",
       "      <td>32.89744</td>\n",
       "      <td>-97.02196</td>\n",
       "      <td>165.7</td>\n",
       "      <td>NaN</td>\n",
       "      <td>NaN</td>\n",
       "      <td>NaN</td>\n",
       "      <td>NaN</td>\n",
       "      <td>NaN</td>\n",
       "      <td>...</td>\n",
       "      <td>NaN</td>\n",
       "      <td>NaN</td>\n",
       "      <td>NaN</td>\n",
       "      <td>NaN</td>\n",
       "      <td>NaN</td>\n",
       "      <td>NaN</td>\n",
       "      <td>NaN</td>\n",
       "      <td>NaN</td>\n",
       "      <td>NaN</td>\n",
       "      <td>NaN</td>\n",
       "    </tr>\n",
       "    <tr>\n",
       "      <th>1948-01-10</th>\n",
       "      <td>USW00003927</td>\n",
       "      <td>DAL FTW WSCMO AIRPORT, TX US</td>\n",
       "      <td>32.89744</td>\n",
       "      <td>-97.02196</td>\n",
       "      <td>165.7</td>\n",
       "      <td>NaN</td>\n",
       "      <td>NaN</td>\n",
       "      <td>NaN</td>\n",
       "      <td>NaN</td>\n",
       "      <td>NaN</td>\n",
       "      <td>...</td>\n",
       "      <td>NaN</td>\n",
       "      <td>NaN</td>\n",
       "      <td>NaN</td>\n",
       "      <td>NaN</td>\n",
       "      <td>NaN</td>\n",
       "      <td>NaN</td>\n",
       "      <td>NaN</td>\n",
       "      <td>NaN</td>\n",
       "      <td>NaN</td>\n",
       "      <td>NaN</td>\n",
       "    </tr>\n",
       "    <tr>\n",
       "      <th>...</th>\n",
       "      <td>...</td>\n",
       "      <td>...</td>\n",
       "      <td>...</td>\n",
       "      <td>...</td>\n",
       "      <td>...</td>\n",
       "      <td>...</td>\n",
       "      <td>...</td>\n",
       "      <td>...</td>\n",
       "      <td>...</td>\n",
       "      <td>...</td>\n",
       "      <td>...</td>\n",
       "      <td>...</td>\n",
       "      <td>...</td>\n",
       "      <td>...</td>\n",
       "      <td>...</td>\n",
       "      <td>...</td>\n",
       "      <td>...</td>\n",
       "      <td>...</td>\n",
       "      <td>...</td>\n",
       "      <td>...</td>\n",
       "      <td>...</td>\n",
       "    </tr>\n",
       "    <tr>\n",
       "      <th>2023-08-17</th>\n",
       "      <td>USW00003927</td>\n",
       "      <td>DAL FTW WSCMO AIRPORT, TX US</td>\n",
       "      <td>32.89744</td>\n",
       "      <td>-97.02196</td>\n",
       "      <td>165.7</td>\n",
       "      <td>NaN</td>\n",
       "      <td>NaN</td>\n",
       "      <td>NaN</td>\n",
       "      <td>NaN</td>\n",
       "      <td>9.17</td>\n",
       "      <td>...</td>\n",
       "      <td>NaN</td>\n",
       "      <td>NaN</td>\n",
       "      <td>NaN</td>\n",
       "      <td>NaN</td>\n",
       "      <td>NaN</td>\n",
       "      <td>NaN</td>\n",
       "      <td>NaN</td>\n",
       "      <td>NaN</td>\n",
       "      <td>NaN</td>\n",
       "      <td>NaN</td>\n",
       "    </tr>\n",
       "    <tr>\n",
       "      <th>2023-08-18</th>\n",
       "      <td>USW00003927</td>\n",
       "      <td>DAL FTW WSCMO AIRPORT, TX US</td>\n",
       "      <td>32.89744</td>\n",
       "      <td>-97.02196</td>\n",
       "      <td>165.7</td>\n",
       "      <td>NaN</td>\n",
       "      <td>NaN</td>\n",
       "      <td>NaN</td>\n",
       "      <td>NaN</td>\n",
       "      <td>8.95</td>\n",
       "      <td>...</td>\n",
       "      <td>NaN</td>\n",
       "      <td>NaN</td>\n",
       "      <td>NaN</td>\n",
       "      <td>NaN</td>\n",
       "      <td>NaN</td>\n",
       "      <td>NaN</td>\n",
       "      <td>NaN</td>\n",
       "      <td>NaN</td>\n",
       "      <td>NaN</td>\n",
       "      <td>NaN</td>\n",
       "    </tr>\n",
       "    <tr>\n",
       "      <th>2023-08-19</th>\n",
       "      <td>USW00003927</td>\n",
       "      <td>DAL FTW WSCMO AIRPORT, TX US</td>\n",
       "      <td>32.89744</td>\n",
       "      <td>-97.02196</td>\n",
       "      <td>165.7</td>\n",
       "      <td>NaN</td>\n",
       "      <td>NaN</td>\n",
       "      <td>NaN</td>\n",
       "      <td>NaN</td>\n",
       "      <td>8.50</td>\n",
       "      <td>...</td>\n",
       "      <td>NaN</td>\n",
       "      <td>NaN</td>\n",
       "      <td>NaN</td>\n",
       "      <td>NaN</td>\n",
       "      <td>NaN</td>\n",
       "      <td>NaN</td>\n",
       "      <td>NaN</td>\n",
       "      <td>NaN</td>\n",
       "      <td>NaN</td>\n",
       "      <td>NaN</td>\n",
       "    </tr>\n",
       "    <tr>\n",
       "      <th>2023-08-20</th>\n",
       "      <td>USW00003927</td>\n",
       "      <td>DAL FTW WSCMO AIRPORT, TX US</td>\n",
       "      <td>32.89744</td>\n",
       "      <td>-97.02196</td>\n",
       "      <td>165.7</td>\n",
       "      <td>NaN</td>\n",
       "      <td>NaN</td>\n",
       "      <td>NaN</td>\n",
       "      <td>NaN</td>\n",
       "      <td>7.61</td>\n",
       "      <td>...</td>\n",
       "      <td>NaN</td>\n",
       "      <td>NaN</td>\n",
       "      <td>NaN</td>\n",
       "      <td>NaN</td>\n",
       "      <td>NaN</td>\n",
       "      <td>NaN</td>\n",
       "      <td>NaN</td>\n",
       "      <td>NaN</td>\n",
       "      <td>NaN</td>\n",
       "      <td>NaN</td>\n",
       "    </tr>\n",
       "    <tr>\n",
       "      <th>2023-08-21</th>\n",
       "      <td>USW00003927</td>\n",
       "      <td>DAL FTW WSCMO AIRPORT, TX US</td>\n",
       "      <td>32.89744</td>\n",
       "      <td>-97.02196</td>\n",
       "      <td>165.7</td>\n",
       "      <td>NaN</td>\n",
       "      <td>NaN</td>\n",
       "      <td>NaN</td>\n",
       "      <td>NaN</td>\n",
       "      <td>NaN</td>\n",
       "      <td>...</td>\n",
       "      <td>NaN</td>\n",
       "      <td>NaN</td>\n",
       "      <td>NaN</td>\n",
       "      <td>NaN</td>\n",
       "      <td>NaN</td>\n",
       "      <td>NaN</td>\n",
       "      <td>NaN</td>\n",
       "      <td>NaN</td>\n",
       "      <td>NaN</td>\n",
       "      <td>NaN</td>\n",
       "    </tr>\n",
       "  </tbody>\n",
       "</table>\n",
       "<p>27596 rows × 93 columns</p>\n",
       "</div>"
      ],
      "text/plain": [
       "                STATION                          NAME  LATITUDE  LONGITUDE  \\\n",
       "DATE                                                                         \n",
       "1948-01-01  USW00003927  DAL FTW WSCMO AIRPORT, TX US  32.89744  -97.02196   \n",
       "1948-01-02  USW00003927  DAL FTW WSCMO AIRPORT, TX US  32.89744  -97.02196   \n",
       "1948-01-08  USW00003927  DAL FTW WSCMO AIRPORT, TX US  32.89744  -97.02196   \n",
       "1948-01-09  USW00003927  DAL FTW WSCMO AIRPORT, TX US  32.89744  -97.02196   \n",
       "1948-01-10  USW00003927  DAL FTW WSCMO AIRPORT, TX US  32.89744  -97.02196   \n",
       "...                 ...                           ...       ...        ...   \n",
       "2023-08-17  USW00003927  DAL FTW WSCMO AIRPORT, TX US  32.89744  -97.02196   \n",
       "2023-08-18  USW00003927  DAL FTW WSCMO AIRPORT, TX US  32.89744  -97.02196   \n",
       "2023-08-19  USW00003927  DAL FTW WSCMO AIRPORT, TX US  32.89744  -97.02196   \n",
       "2023-08-20  USW00003927  DAL FTW WSCMO AIRPORT, TX US  32.89744  -97.02196   \n",
       "2023-08-21  USW00003927  DAL FTW WSCMO AIRPORT, TX US  32.89744  -97.02196   \n",
       "\n",
       "            ELEVATION  ACMH ACMH_ATTRIBUTES  ACSH ACSH_ATTRIBUTES  AWND  ...  \\\n",
       "DATE                                                                     ...   \n",
       "1948-01-01      165.7   NaN             NaN   NaN             NaN   NaN  ...   \n",
       "1948-01-02      165.7   NaN             NaN   NaN             NaN   NaN  ...   \n",
       "1948-01-08      165.7   NaN             NaN   NaN             NaN   NaN  ...   \n",
       "1948-01-09      165.7   NaN             NaN   NaN             NaN   NaN  ...   \n",
       "1948-01-10      165.7   NaN             NaN   NaN             NaN   NaN  ...   \n",
       "...               ...   ...             ...   ...             ...   ...  ...   \n",
       "2023-08-17      165.7   NaN             NaN   NaN             NaN  9.17  ...   \n",
       "2023-08-18      165.7   NaN             NaN   NaN             NaN  8.95  ...   \n",
       "2023-08-19      165.7   NaN             NaN   NaN             NaN  8.50  ...   \n",
       "2023-08-20      165.7   NaN             NaN   NaN             NaN  7.61  ...   \n",
       "2023-08-21      165.7   NaN             NaN   NaN             NaN   NaN  ...   \n",
       "\n",
       "           WT18  WT18_ATTRIBUTES WT19  WT19_ATTRIBUTES WT21  WT21_ATTRIBUTES  \\\n",
       "DATE                                                                           \n",
       "1948-01-01  NaN              NaN  NaN              NaN  NaN              NaN   \n",
       "1948-01-02  NaN              NaN  NaN              NaN  NaN              NaN   \n",
       "1948-01-08  NaN              NaN  NaN              NaN  NaN              NaN   \n",
       "1948-01-09  NaN              NaN  NaN              NaN  NaN              NaN   \n",
       "1948-01-10  NaN              NaN  NaN              NaN  NaN              NaN   \n",
       "...         ...              ...  ...              ...  ...              ...   \n",
       "2023-08-17  NaN              NaN  NaN              NaN  NaN              NaN   \n",
       "2023-08-18  NaN              NaN  NaN              NaN  NaN              NaN   \n",
       "2023-08-19  NaN              NaN  NaN              NaN  NaN              NaN   \n",
       "2023-08-20  NaN              NaN  NaN              NaN  NaN              NaN   \n",
       "2023-08-21  NaN              NaN  NaN              NaN  NaN              NaN   \n",
       "\n",
       "           WT22  WT22_ATTRIBUTES WV03  WV03_ATTRIBUTES  \n",
       "DATE                                                    \n",
       "1948-01-01  NaN              NaN  NaN              NaN  \n",
       "1948-01-02  NaN              NaN  NaN              NaN  \n",
       "1948-01-08  NaN              NaN  NaN              NaN  \n",
       "1948-01-09  NaN              NaN  NaN              NaN  \n",
       "1948-01-10  NaN              NaN  NaN              NaN  \n",
       "...         ...              ...  ...              ...  \n",
       "2023-08-17  NaN              NaN  NaN              NaN  \n",
       "2023-08-18  NaN              NaN  NaN              NaN  \n",
       "2023-08-19  NaN              NaN  NaN              NaN  \n",
       "2023-08-20  NaN              NaN  NaN              NaN  \n",
       "2023-08-21  NaN              NaN  NaN              NaN  \n",
       "\n",
       "[27596 rows x 93 columns]"
      ]
     },
     "execution_count": 3,
     "metadata": {},
     "output_type": "execute_result"
    }
   ],
   "source": [
    "weather"
   ]
  },
  {
   "cell_type": "code",
   "execution_count": 4,
   "id": "1bb0366d",
   "metadata": {
    "scrolled": true
   },
   "outputs": [
    {
     "data": {
      "text/plain": [
       "STATION            0.000000\n",
       "NAME               0.000000\n",
       "LATITUDE           0.000000\n",
       "LONGITUDE          0.000000\n",
       "ELEVATION          0.000000\n",
       "                     ...   \n",
       "WT21_ATTRIBUTES    0.999855\n",
       "WT22               0.999783\n",
       "WT22_ATTRIBUTES    0.999783\n",
       "WV03               0.999928\n",
       "WV03_ATTRIBUTES    0.999928\n",
       "Length: 93, dtype: float64"
      ]
     },
     "execution_count": 4,
     "metadata": {},
     "output_type": "execute_result"
    }
   ],
   "source": [
    "#finding out which columns have missing values cuz ML don't respond well to 'em\n",
    "weather.apply(pd.isnull).sum()/weather.shape[0] #gives the % of nulls in each column"
   ]
  },
  {
   "cell_type": "code",
   "execution_count": 5,
   "id": "c44d8507",
   "metadata": {},
   "outputs": [],
   "source": [
    "#only selecting the core values from the documentation because these are the ones with least nulls\n",
    "core_values = weather[[\"PRCP\",\"SNOW\",\"SNWD\",\"TMAX\",\"TMIN\"]].copy()"
   ]
  },
  {
   "cell_type": "code",
   "execution_count": 6,
   "id": "c9e9c39c",
   "metadata": {},
   "outputs": [],
   "source": [
    "#renaming the columns\n",
    "core_values.columns = [\"prec\",\"snow\",\"snow_depth\",\"max_temp\",\"min_temp\"]"
   ]
  },
  {
   "cell_type": "code",
   "execution_count": 7,
   "id": "46e2f7d7",
   "metadata": {},
   "outputs": [
    {
     "data": {
      "text/html": [
       "<div>\n",
       "<style scoped>\n",
       "    .dataframe tbody tr th:only-of-type {\n",
       "        vertical-align: middle;\n",
       "    }\n",
       "\n",
       "    .dataframe tbody tr th {\n",
       "        vertical-align: top;\n",
       "    }\n",
       "\n",
       "    .dataframe thead th {\n",
       "        text-align: right;\n",
       "    }\n",
       "</style>\n",
       "<table border=\"1\" class=\"dataframe\">\n",
       "  <thead>\n",
       "    <tr style=\"text-align: right;\">\n",
       "      <th></th>\n",
       "      <th>prec</th>\n",
       "      <th>snow</th>\n",
       "      <th>snow_depth</th>\n",
       "      <th>max_temp</th>\n",
       "      <th>min_temp</th>\n",
       "    </tr>\n",
       "    <tr>\n",
       "      <th>DATE</th>\n",
       "      <th></th>\n",
       "      <th></th>\n",
       "      <th></th>\n",
       "      <th></th>\n",
       "      <th></th>\n",
       "    </tr>\n",
       "  </thead>\n",
       "  <tbody>\n",
       "    <tr>\n",
       "      <th>1948-01-01</th>\n",
       "      <td>NaN</td>\n",
       "      <td>NaN</td>\n",
       "      <td>NaN</td>\n",
       "      <td>NaN</td>\n",
       "      <td>NaN</td>\n",
       "    </tr>\n",
       "    <tr>\n",
       "      <th>1948-01-02</th>\n",
       "      <td>NaN</td>\n",
       "      <td>NaN</td>\n",
       "      <td>NaN</td>\n",
       "      <td>NaN</td>\n",
       "      <td>NaN</td>\n",
       "    </tr>\n",
       "    <tr>\n",
       "      <th>1948-01-08</th>\n",
       "      <td>NaN</td>\n",
       "      <td>NaN</td>\n",
       "      <td>NaN</td>\n",
       "      <td>NaN</td>\n",
       "      <td>NaN</td>\n",
       "    </tr>\n",
       "    <tr>\n",
       "      <th>1948-01-09</th>\n",
       "      <td>NaN</td>\n",
       "      <td>NaN</td>\n",
       "      <td>NaN</td>\n",
       "      <td>NaN</td>\n",
       "      <td>NaN</td>\n",
       "    </tr>\n",
       "    <tr>\n",
       "      <th>1948-01-10</th>\n",
       "      <td>NaN</td>\n",
       "      <td>NaN</td>\n",
       "      <td>NaN</td>\n",
       "      <td>NaN</td>\n",
       "      <td>NaN</td>\n",
       "    </tr>\n",
       "    <tr>\n",
       "      <th>...</th>\n",
       "      <td>...</td>\n",
       "      <td>...</td>\n",
       "      <td>...</td>\n",
       "      <td>...</td>\n",
       "      <td>...</td>\n",
       "    </tr>\n",
       "    <tr>\n",
       "      <th>2023-08-17</th>\n",
       "      <td>0.0</td>\n",
       "      <td>0.0</td>\n",
       "      <td>0.0</td>\n",
       "      <td>109.0</td>\n",
       "      <td>74.0</td>\n",
       "    </tr>\n",
       "    <tr>\n",
       "      <th>2023-08-18</th>\n",
       "      <td>0.0</td>\n",
       "      <td>0.0</td>\n",
       "      <td>0.0</td>\n",
       "      <td>109.0</td>\n",
       "      <td>82.0</td>\n",
       "    </tr>\n",
       "    <tr>\n",
       "      <th>2023-08-19</th>\n",
       "      <td>0.0</td>\n",
       "      <td>0.0</td>\n",
       "      <td>0.0</td>\n",
       "      <td>108.0</td>\n",
       "      <td>85.0</td>\n",
       "    </tr>\n",
       "    <tr>\n",
       "      <th>2023-08-20</th>\n",
       "      <td>0.0</td>\n",
       "      <td>0.0</td>\n",
       "      <td>0.0</td>\n",
       "      <td>109.0</td>\n",
       "      <td>83.0</td>\n",
       "    </tr>\n",
       "    <tr>\n",
       "      <th>2023-08-21</th>\n",
       "      <td>NaN</td>\n",
       "      <td>NaN</td>\n",
       "      <td>NaN</td>\n",
       "      <td>NaN</td>\n",
       "      <td>NaN</td>\n",
       "    </tr>\n",
       "  </tbody>\n",
       "</table>\n",
       "<p>27596 rows × 5 columns</p>\n",
       "</div>"
      ],
      "text/plain": [
       "            prec  snow  snow_depth  max_temp  min_temp\n",
       "DATE                                                  \n",
       "1948-01-01   NaN   NaN         NaN       NaN       NaN\n",
       "1948-01-02   NaN   NaN         NaN       NaN       NaN\n",
       "1948-01-08   NaN   NaN         NaN       NaN       NaN\n",
       "1948-01-09   NaN   NaN         NaN       NaN       NaN\n",
       "1948-01-10   NaN   NaN         NaN       NaN       NaN\n",
       "...          ...   ...         ...       ...       ...\n",
       "2023-08-17   0.0   0.0         0.0     109.0      74.0\n",
       "2023-08-18   0.0   0.0         0.0     109.0      82.0\n",
       "2023-08-19   0.0   0.0         0.0     108.0      85.0\n",
       "2023-08-20   0.0   0.0         0.0     109.0      83.0\n",
       "2023-08-21   NaN   NaN         NaN       NaN       NaN\n",
       "\n",
       "[27596 rows x 5 columns]"
      ]
     },
     "execution_count": 7,
     "metadata": {},
     "output_type": "execute_result"
    }
   ],
   "source": [
    "core_values"
   ]
  },
  {
   "cell_type": "code",
   "execution_count": 8,
   "id": "89bba836",
   "metadata": {},
   "outputs": [
    {
     "data": {
      "text/plain": [
       "prec          0.069285\n",
       "snow          0.069720\n",
       "snow_depth    0.192818\n",
       "max_temp      0.069285\n",
       "min_temp      0.069285\n",
       "dtype: float64"
      ]
     },
     "execution_count": 8,
     "metadata": {},
     "output_type": "execute_result"
    }
   ],
   "source": [
    "core_values.apply(pd.isnull).sum()/core_values.shape[0]"
   ]
  },
  {
   "cell_type": "code",
   "execution_count": 9,
   "id": "f9f35cec",
   "metadata": {
    "scrolled": false
   },
   "outputs": [
    {
     "data": {
      "text/plain": [
       "0.0     25535\n",
       "0.2        17\n",
       "0.1        17\n",
       "0.3        14\n",
       "0.4        12\n",
       "0.5         7\n",
       "2.0         7\n",
       "1.2         7\n",
       "1.0         6\n",
       "1.5         5\n",
       "0.8         5\n",
       "1.3         4\n",
       "1.4         4\n",
       "0.6         3\n",
       "1.1         3\n",
       "2.6         3\n",
       "2.5         3\n",
       "3.7         2\n",
       "0.7         2\n",
       "2.4         2\n",
       "1.7         2\n",
       "4.0         2\n",
       "3.5         1\n",
       "3.0         1\n",
       "7.5         1\n",
       "11.2        1\n",
       "7.8         1\n",
       "4.7         1\n",
       "1.6         1\n",
       "4.3         1\n",
       "3.8         1\n",
       "0.9         1\n",
       "Name: snow, dtype: int64"
      ]
     },
     "execution_count": 9,
     "metadata": {},
     "output_type": "execute_result"
    }
   ],
   "source": [
    "#checking if this column is useful\n",
    "core_values[\"snow\"].value_counts() #only one non-null value so not very useful"
   ]
  },
  {
   "cell_type": "code",
   "execution_count": 10,
   "id": "cd391048",
   "metadata": {},
   "outputs": [],
   "source": [
    "del core_values[\"snow\"]"
   ]
  },
  {
   "cell_type": "code",
   "execution_count": 11,
   "id": "3a5131ec",
   "metadata": {},
   "outputs": [
    {
     "data": {
      "text/plain": [
       "0.0     22165\n",
       "1.0        48\n",
       "2.0        29\n",
       "3.0         9\n",
       "4.0         6\n",
       "1.2         6\n",
       "5.0         3\n",
       "3.9         3\n",
       "3.1         3\n",
       "6.0         1\n",
       "8.0         1\n",
       "11.0        1\n",
       "Name: snow_depth, dtype: int64"
      ]
     },
     "execution_count": 11,
     "metadata": {},
     "output_type": "execute_result"
    }
   ],
   "source": [
    "core_values[\"snow_depth\"].value_counts()"
   ]
  },
  {
   "cell_type": "code",
   "execution_count": 12,
   "id": "1831893a",
   "metadata": {},
   "outputs": [],
   "source": [
    "del core_values[\"snow_depth\"]"
   ]
  },
  {
   "cell_type": "code",
   "execution_count": 13,
   "id": "51bc7ba4",
   "metadata": {},
   "outputs": [
    {
     "data": {
      "text/html": [
       "<div>\n",
       "<style scoped>\n",
       "    .dataframe tbody tr th:only-of-type {\n",
       "        vertical-align: middle;\n",
       "    }\n",
       "\n",
       "    .dataframe tbody tr th {\n",
       "        vertical-align: top;\n",
       "    }\n",
       "\n",
       "    .dataframe thead th {\n",
       "        text-align: right;\n",
       "    }\n",
       "</style>\n",
       "<table border=\"1\" class=\"dataframe\">\n",
       "  <thead>\n",
       "    <tr style=\"text-align: right;\">\n",
       "      <th></th>\n",
       "      <th>prec</th>\n",
       "      <th>max_temp</th>\n",
       "      <th>min_temp</th>\n",
       "    </tr>\n",
       "    <tr>\n",
       "      <th>DATE</th>\n",
       "      <th></th>\n",
       "      <th></th>\n",
       "      <th></th>\n",
       "    </tr>\n",
       "  </thead>\n",
       "  <tbody>\n",
       "    <tr>\n",
       "      <th>1948-01-01</th>\n",
       "      <td>NaN</td>\n",
       "      <td>NaN</td>\n",
       "      <td>NaN</td>\n",
       "    </tr>\n",
       "    <tr>\n",
       "      <th>1948-01-02</th>\n",
       "      <td>NaN</td>\n",
       "      <td>NaN</td>\n",
       "      <td>NaN</td>\n",
       "    </tr>\n",
       "    <tr>\n",
       "      <th>1948-01-08</th>\n",
       "      <td>NaN</td>\n",
       "      <td>NaN</td>\n",
       "      <td>NaN</td>\n",
       "    </tr>\n",
       "    <tr>\n",
       "      <th>1948-01-09</th>\n",
       "      <td>NaN</td>\n",
       "      <td>NaN</td>\n",
       "      <td>NaN</td>\n",
       "    </tr>\n",
       "    <tr>\n",
       "      <th>1948-01-10</th>\n",
       "      <td>NaN</td>\n",
       "      <td>NaN</td>\n",
       "      <td>NaN</td>\n",
       "    </tr>\n",
       "    <tr>\n",
       "      <th>...</th>\n",
       "      <td>...</td>\n",
       "      <td>...</td>\n",
       "      <td>...</td>\n",
       "    </tr>\n",
       "    <tr>\n",
       "      <th>1953-04-22</th>\n",
       "      <td>NaN</td>\n",
       "      <td>NaN</td>\n",
       "      <td>NaN</td>\n",
       "    </tr>\n",
       "    <tr>\n",
       "      <th>1953-04-23</th>\n",
       "      <td>NaN</td>\n",
       "      <td>NaN</td>\n",
       "      <td>NaN</td>\n",
       "    </tr>\n",
       "    <tr>\n",
       "      <th>1953-04-24</th>\n",
       "      <td>NaN</td>\n",
       "      <td>NaN</td>\n",
       "      <td>NaN</td>\n",
       "    </tr>\n",
       "    <tr>\n",
       "      <th>1953-04-25</th>\n",
       "      <td>NaN</td>\n",
       "      <td>NaN</td>\n",
       "      <td>NaN</td>\n",
       "    </tr>\n",
       "    <tr>\n",
       "      <th>2023-08-21</th>\n",
       "      <td>NaN</td>\n",
       "      <td>NaN</td>\n",
       "      <td>NaN</td>\n",
       "    </tr>\n",
       "  </tbody>\n",
       "</table>\n",
       "<p>1912 rows × 3 columns</p>\n",
       "</div>"
      ],
      "text/plain": [
       "            prec  max_temp  min_temp\n",
       "DATE                                \n",
       "1948-01-01   NaN       NaN       NaN\n",
       "1948-01-02   NaN       NaN       NaN\n",
       "1948-01-08   NaN       NaN       NaN\n",
       "1948-01-09   NaN       NaN       NaN\n",
       "1948-01-10   NaN       NaN       NaN\n",
       "...          ...       ...       ...\n",
       "1953-04-22   NaN       NaN       NaN\n",
       "1953-04-23   NaN       NaN       NaN\n",
       "1953-04-24   NaN       NaN       NaN\n",
       "1953-04-25   NaN       NaN       NaN\n",
       "2023-08-21   NaN       NaN       NaN\n",
       "\n",
       "[1912 rows x 3 columns]"
      ]
     },
     "execution_count": 13,
     "metadata": {},
     "output_type": "execute_result"
    }
   ],
   "source": [
    "core_values[pd.isnull(core_values[\"prec\"])]"
   ]
  },
  {
   "cell_type": "code",
   "execution_count": 14,
   "id": "b8d9d86e",
   "metadata": {},
   "outputs": [
    {
     "data": {
      "text/plain": [
       "0.00    20178\n",
       "0.01      533\n",
       "0.02      325\n",
       "0.03      241\n",
       "0.05      196\n",
       "        ...  \n",
       "3.66        1\n",
       "2.94        1\n",
       "3.17        1\n",
       "2.72        1\n",
       "2.30        1\n",
       "Name: prec, Length: 309, dtype: int64"
      ]
     },
     "execution_count": 14,
     "metadata": {},
     "output_type": "execute_result"
    }
   ],
   "source": [
    "core_values[\"prec\"].value_counts()"
   ]
  },
  {
   "cell_type": "code",
   "execution_count": 15,
   "id": "c85920f8",
   "metadata": {},
   "outputs": [],
   "source": [
    "core_values[\"prec\"] = core_values[\"prec\"].fillna(0)"
   ]
  },
  {
   "cell_type": "code",
   "execution_count": 16,
   "id": "4b37881a",
   "metadata": {},
   "outputs": [
    {
     "data": {
      "text/plain": [
       "prec        0.000000\n",
       "max_temp    0.069285\n",
       "min_temp    0.069285\n",
       "dtype: float64"
      ]
     },
     "execution_count": 16,
     "metadata": {},
     "output_type": "execute_result"
    }
   ],
   "source": [
    "core_values.apply(pd.isnull).sum()/core_values.shape[0]"
   ]
  },
  {
   "cell_type": "code",
   "execution_count": 17,
   "id": "5a3d8886",
   "metadata": {},
   "outputs": [
    {
     "data": {
      "text/plain": [
       "95.0     708\n",
       "96.0     679\n",
       "94.0     630\n",
       "93.0     625\n",
       "91.0     573\n",
       "        ... \n",
       "15.0       1\n",
       "19.0       1\n",
       "13.0       1\n",
       "17.0       1\n",
       "111.0      1\n",
       "Name: max_temp, Length: 100, dtype: int64"
      ]
     },
     "execution_count": 17,
     "metadata": {},
     "output_type": "execute_result"
    }
   ],
   "source": [
    "core_values[\"max_temp\"].value_counts()"
   ]
  },
  {
   "cell_type": "code",
   "execution_count": 18,
   "id": "186cedad",
   "metadata": {},
   "outputs": [],
   "source": [
    "core_values[\"max_temp\"] = core_values[\"max_temp\"].fillna(0)"
   ]
  },
  {
   "cell_type": "code",
   "execution_count": 19,
   "id": "a5efa010",
   "metadata": {},
   "outputs": [],
   "source": [
    "core_values[\"min_temp\"] = core_values[\"min_temp\"].fillna(0)"
   ]
  },
  {
   "cell_type": "code",
   "execution_count": 20,
   "id": "df5c9f01",
   "metadata": {},
   "outputs": [
    {
     "data": {
      "text/html": [
       "<div>\n",
       "<style scoped>\n",
       "    .dataframe tbody tr th:only-of-type {\n",
       "        vertical-align: middle;\n",
       "    }\n",
       "\n",
       "    .dataframe tbody tr th {\n",
       "        vertical-align: top;\n",
       "    }\n",
       "\n",
       "    .dataframe thead th {\n",
       "        text-align: right;\n",
       "    }\n",
       "</style>\n",
       "<table border=\"1\" class=\"dataframe\">\n",
       "  <thead>\n",
       "    <tr style=\"text-align: right;\">\n",
       "      <th></th>\n",
       "      <th>prec</th>\n",
       "      <th>max_temp</th>\n",
       "      <th>min_temp</th>\n",
       "    </tr>\n",
       "    <tr>\n",
       "      <th>DATE</th>\n",
       "      <th></th>\n",
       "      <th></th>\n",
       "      <th></th>\n",
       "    </tr>\n",
       "  </thead>\n",
       "  <tbody>\n",
       "    <tr>\n",
       "      <th>1948-01-01</th>\n",
       "      <td>0.0</td>\n",
       "      <td>0.0</td>\n",
       "      <td>0.0</td>\n",
       "    </tr>\n",
       "    <tr>\n",
       "      <th>1948-01-02</th>\n",
       "      <td>0.0</td>\n",
       "      <td>0.0</td>\n",
       "      <td>0.0</td>\n",
       "    </tr>\n",
       "    <tr>\n",
       "      <th>1948-01-08</th>\n",
       "      <td>0.0</td>\n",
       "      <td>0.0</td>\n",
       "      <td>0.0</td>\n",
       "    </tr>\n",
       "    <tr>\n",
       "      <th>1948-01-09</th>\n",
       "      <td>0.0</td>\n",
       "      <td>0.0</td>\n",
       "      <td>0.0</td>\n",
       "    </tr>\n",
       "    <tr>\n",
       "      <th>1948-01-10</th>\n",
       "      <td>0.0</td>\n",
       "      <td>0.0</td>\n",
       "      <td>0.0</td>\n",
       "    </tr>\n",
       "    <tr>\n",
       "      <th>...</th>\n",
       "      <td>...</td>\n",
       "      <td>...</td>\n",
       "      <td>...</td>\n",
       "    </tr>\n",
       "    <tr>\n",
       "      <th>2023-08-17</th>\n",
       "      <td>0.0</td>\n",
       "      <td>109.0</td>\n",
       "      <td>74.0</td>\n",
       "    </tr>\n",
       "    <tr>\n",
       "      <th>2023-08-18</th>\n",
       "      <td>0.0</td>\n",
       "      <td>109.0</td>\n",
       "      <td>82.0</td>\n",
       "    </tr>\n",
       "    <tr>\n",
       "      <th>2023-08-19</th>\n",
       "      <td>0.0</td>\n",
       "      <td>108.0</td>\n",
       "      <td>85.0</td>\n",
       "    </tr>\n",
       "    <tr>\n",
       "      <th>2023-08-20</th>\n",
       "      <td>0.0</td>\n",
       "      <td>109.0</td>\n",
       "      <td>83.0</td>\n",
       "    </tr>\n",
       "    <tr>\n",
       "      <th>2023-08-21</th>\n",
       "      <td>0.0</td>\n",
       "      <td>0.0</td>\n",
       "      <td>0.0</td>\n",
       "    </tr>\n",
       "  </tbody>\n",
       "</table>\n",
       "<p>27596 rows × 3 columns</p>\n",
       "</div>"
      ],
      "text/plain": [
       "            prec  max_temp  min_temp\n",
       "DATE                                \n",
       "1948-01-01   0.0       0.0       0.0\n",
       "1948-01-02   0.0       0.0       0.0\n",
       "1948-01-08   0.0       0.0       0.0\n",
       "1948-01-09   0.0       0.0       0.0\n",
       "1948-01-10   0.0       0.0       0.0\n",
       "...          ...       ...       ...\n",
       "2023-08-17   0.0     109.0      74.0\n",
       "2023-08-18   0.0     109.0      82.0\n",
       "2023-08-19   0.0     108.0      85.0\n",
       "2023-08-20   0.0     109.0      83.0\n",
       "2023-08-21   0.0       0.0       0.0\n",
       "\n",
       "[27596 rows x 3 columns]"
      ]
     },
     "execution_count": 20,
     "metadata": {},
     "output_type": "execute_result"
    }
   ],
   "source": [
    "core_values"
   ]
  },
  {
   "cell_type": "code",
   "execution_count": 21,
   "id": "0a9bdb96",
   "metadata": {},
   "outputs": [
    {
     "data": {
      "text/plain": [
       "prec        0.0\n",
       "max_temp    0.0\n",
       "min_temp    0.0\n",
       "dtype: float64"
      ]
     },
     "execution_count": 21,
     "metadata": {},
     "output_type": "execute_result"
    }
   ],
   "source": [
    "core_values.apply(pd.isnull).sum()/core_values.shape[0]"
   ]
  },
  {
   "cell_type": "code",
   "execution_count": 22,
   "id": "ec34cb84",
   "metadata": {},
   "outputs": [
    {
     "data": {
      "text/plain": [
       "Index(['1948-01-01', '1948-01-02', '1948-01-08', '1948-01-09', '1948-01-10',\n",
       "       '1948-01-11', '1948-01-12', '1948-01-13', '1948-01-14', '1948-01-15',\n",
       "       ...\n",
       "       '2023-08-12', '2023-08-13', '2023-08-14', '2023-08-15', '2023-08-16',\n",
       "       '2023-08-17', '2023-08-18', '2023-08-19', '2023-08-20', '2023-08-21'],\n",
       "      dtype='object', name='DATE', length=27596)"
      ]
     },
     "execution_count": 22,
     "metadata": {},
     "output_type": "execute_result"
    }
   ],
   "source": [
    "core_values.index"
   ]
  },
  {
   "cell_type": "code",
   "execution_count": 23,
   "id": "81548dfc",
   "metadata": {},
   "outputs": [],
   "source": [
    "core_values.index = pd.to_datetime(core_values.index)"
   ]
  },
  {
   "cell_type": "code",
   "execution_count": 24,
   "id": "08319bfa",
   "metadata": {},
   "outputs": [
    {
     "data": {
      "text/plain": [
       "DatetimeIndex(['1948-01-01', '1948-01-02', '1948-01-08', '1948-01-09',\n",
       "               '1948-01-10', '1948-01-11', '1948-01-12', '1948-01-13',\n",
       "               '1948-01-14', '1948-01-15',\n",
       "               ...\n",
       "               '2023-08-12', '2023-08-13', '2023-08-14', '2023-08-15',\n",
       "               '2023-08-16', '2023-08-17', '2023-08-18', '2023-08-19',\n",
       "               '2023-08-20', '2023-08-21'],\n",
       "              dtype='datetime64[ns]', name='DATE', length=27596, freq=None)"
      ]
     },
     "execution_count": 24,
     "metadata": {},
     "output_type": "execute_result"
    }
   ],
   "source": [
    "core_values.index"
   ]
  },
  {
   "cell_type": "code",
   "execution_count": 25,
   "id": "8cf45cd3",
   "metadata": {},
   "outputs": [
    {
     "data": {
      "text/plain": [
       "prec        0\n",
       "max_temp    0\n",
       "min_temp    0\n",
       "dtype: int64"
      ]
     },
     "execution_count": 25,
     "metadata": {},
     "output_type": "execute_result"
    }
   ],
   "source": [
    "core_values.apply(lambda x: (x==9999).sum())"
   ]
  },
  {
   "cell_type": "code",
   "execution_count": 26,
   "id": "08c15a53",
   "metadata": {
    "scrolled": true
   },
   "outputs": [
    {
     "data": {
      "text/plain": [
       "<Axes: xlabel='DATE'>"
      ]
     },
     "execution_count": 26,
     "metadata": {},
     "output_type": "execute_result"
    },
    {
     "data": {
      "image/png": "[encoded data removed]",
      "text/plain": [
       "<Figure size 640x480 with 1 Axes>"
      ]
     },
     "metadata": {},
     "output_type": "display_data"
    }
   ],
   "source": [
    "core_values[[\"max_temp\",\"min_temp\"]].plot()"
   ]
  },
  {
   "cell_type": "code",
   "execution_count": 27,
   "id": "8fbc2ea1",
   "metadata": {
    "scrolled": false
   },
   "outputs": [
    {
     "data": {
      "text/plain": [
       "<Axes: xlabel='DATE'>"
      ]
     },
     "execution_count": 27,
     "metadata": {},
     "output_type": "execute_result"
    },
    {
     "data": {
      "image/png": "[encoded data removed]",
      "text/plain": [
       "<Figure size 640x480 with 1 Axes>"
      ]
     },
     "metadata": {},
     "output_type": "display_data"
    }
   ],
   "source": [
    "core_values[[\"prec\"]].plot()"
   ]
  },
  {
   "cell_type": "code",
   "execution_count": 28,
   "id": "b976f74c",
   "metadata": {},
   "outputs": [
    {
     "data": {
      "text/plain": [
       "DATE\n",
       "1948     0.00\n",
       "1949     0.00\n",
       "1950     0.00\n",
       "1951     0.00\n",
       "1952     0.00\n",
       "        ...  \n",
       "2019    34.52\n",
       "2020    43.70\n",
       "2021    33.60\n",
       "2022    36.64\n",
       "2023    14.83\n",
       "Name: prec, Length: 76, dtype: float64"
      ]
     },
     "execution_count": 28,
     "metadata": {},
     "output_type": "execute_result"
    }
   ],
   "source": [
    "#how much it rained each year\n",
    "core_values.groupby(core_values.index.year).sum()[\"prec\"]"
   ]
  },
  {
   "cell_type": "code",
   "execution_count": 29,
   "id": "14907218",
   "metadata": {},
   "outputs": [],
   "source": [
    "#predicting tomorrow's temperature using today's data by creatning a column names 'target'\n",
    "core_values[\"target\"] = core_values.shift(-1)[\"max_temp\"]"
   ]
  },
  {
   "cell_type": "code",
   "execution_count": 30,
   "id": "63c25140",
   "metadata": {},
   "outputs": [
    {
     "data": {
      "text/html": [
       "<div>\n",
       "<style scoped>\n",
       "    .dataframe tbody tr th:only-of-type {\n",
       "        vertical-align: middle;\n",
       "    }\n",
       "\n",
       "    .dataframe tbody tr th {\n",
       "        vertical-align: top;\n",
       "    }\n",
       "\n",
       "    .dataframe thead th {\n",
       "        text-align: right;\n",
       "    }\n",
       "</style>\n",
       "<table border=\"1\" class=\"dataframe\">\n",
       "  <thead>\n",
       "    <tr style=\"text-align: right;\">\n",
       "      <th></th>\n",
       "      <th>prec</th>\n",
       "      <th>max_temp</th>\n",
       "      <th>min_temp</th>\n",
       "      <th>target</th>\n",
       "    </tr>\n",
       "    <tr>\n",
       "      <th>DATE</th>\n",
       "      <th></th>\n",
       "      <th></th>\n",
       "      <th></th>\n",
       "      <th></th>\n",
       "    </tr>\n",
       "  </thead>\n",
       "  <tbody>\n",
       "    <tr>\n",
       "      <th>1948-01-01</th>\n",
       "      <td>0.0</td>\n",
       "      <td>0.0</td>\n",
       "      <td>0.0</td>\n",
       "      <td>0.0</td>\n",
       "    </tr>\n",
       "    <tr>\n",
       "      <th>1948-01-02</th>\n",
       "      <td>0.0</td>\n",
       "      <td>0.0</td>\n",
       "      <td>0.0</td>\n",
       "      <td>0.0</td>\n",
       "    </tr>\n",
       "    <tr>\n",
       "      <th>1948-01-08</th>\n",
       "      <td>0.0</td>\n",
       "      <td>0.0</td>\n",
       "      <td>0.0</td>\n",
       "      <td>0.0</td>\n",
       "    </tr>\n",
       "    <tr>\n",
       "      <th>1948-01-09</th>\n",
       "      <td>0.0</td>\n",
       "      <td>0.0</td>\n",
       "      <td>0.0</td>\n",
       "      <td>0.0</td>\n",
       "    </tr>\n",
       "    <tr>\n",
       "      <th>1948-01-10</th>\n",
       "      <td>0.0</td>\n",
       "      <td>0.0</td>\n",
       "      <td>0.0</td>\n",
       "      <td>0.0</td>\n",
       "    </tr>\n",
       "    <tr>\n",
       "      <th>...</th>\n",
       "      <td>...</td>\n",
       "      <td>...</td>\n",
       "      <td>...</td>\n",
       "      <td>...</td>\n",
       "    </tr>\n",
       "    <tr>\n",
       "      <th>2023-08-17</th>\n",
       "      <td>0.0</td>\n",
       "      <td>109.0</td>\n",
       "      <td>74.0</td>\n",
       "      <td>109.0</td>\n",
       "    </tr>\n",
       "    <tr>\n",
       "      <th>2023-08-18</th>\n",
       "      <td>0.0</td>\n",
       "      <td>109.0</td>\n",
       "      <td>82.0</td>\n",
       "      <td>108.0</td>\n",
       "    </tr>\n",
       "    <tr>\n",
       "      <th>2023-08-19</th>\n",
       "      <td>0.0</td>\n",
       "      <td>108.0</td>\n",
       "      <td>85.0</td>\n",
       "      <td>109.0</td>\n",
       "    </tr>\n",
       "    <tr>\n",
       "      <th>2023-08-20</th>\n",
       "      <td>0.0</td>\n",
       "      <td>109.0</td>\n",
       "      <td>83.0</td>\n",
       "      <td>0.0</td>\n",
       "    </tr>\n",
       "    <tr>\n",
       "      <th>2023-08-21</th>\n",
       "      <td>0.0</td>\n",
       "      <td>0.0</td>\n",
       "      <td>0.0</td>\n",
       "      <td>NaN</td>\n",
       "    </tr>\n",
       "  </tbody>\n",
       "</table>\n",
       "<p>27596 rows × 4 columns</p>\n",
       "</div>"
      ],
      "text/plain": [
       "            prec  max_temp  min_temp  target\n",
       "DATE                                        \n",
       "1948-01-01   0.0       0.0       0.0     0.0\n",
       "1948-01-02   0.0       0.0       0.0     0.0\n",
       "1948-01-08   0.0       0.0       0.0     0.0\n",
       "1948-01-09   0.0       0.0       0.0     0.0\n",
       "1948-01-10   0.0       0.0       0.0     0.0\n",
       "...          ...       ...       ...     ...\n",
       "2023-08-17   0.0     109.0      74.0   109.0\n",
       "2023-08-18   0.0     109.0      82.0   108.0\n",
       "2023-08-19   0.0     108.0      85.0   109.0\n",
       "2023-08-20   0.0     109.0      83.0     0.0\n",
       "2023-08-21   0.0       0.0       0.0     NaN\n",
       "\n",
       "[27596 rows x 4 columns]"
      ]
     },
     "execution_count": 30,
     "metadata": {},
     "output_type": "execute_result"
    }
   ],
   "source": [
    "core_values\n",
    "#the last row's 'target' cell has NaN cuz there's no temp data for 2023-08-22, so we'll remove that next"
   ]
  },
  {
   "cell_type": "code",
   "execution_count": 31,
   "id": "3eec3da2",
   "metadata": {},
   "outputs": [],
   "source": [
    "core_values = core_values.iloc[:-1,:].copy()"
   ]
  },
  {
   "cell_type": "code",
   "execution_count": 32,
   "id": "321676ce",
   "metadata": {},
   "outputs": [
    {
     "data": {
      "text/html": [
       "<div>\n",
       "<style scoped>\n",
       "    .dataframe tbody tr th:only-of-type {\n",
       "        vertical-align: middle;\n",
       "    }\n",
       "\n",
       "    .dataframe tbody tr th {\n",
       "        vertical-align: top;\n",
       "    }\n",
       "\n",
       "    .dataframe thead th {\n",
       "        text-align: right;\n",
       "    }\n",
       "</style>\n",
       "<table border=\"1\" class=\"dataframe\">\n",
       "  <thead>\n",
       "    <tr style=\"text-align: right;\">\n",
       "      <th></th>\n",
       "      <th>prec</th>\n",
       "      <th>max_temp</th>\n",
       "      <th>min_temp</th>\n",
       "      <th>target</th>\n",
       "    </tr>\n",
       "    <tr>\n",
       "      <th>DATE</th>\n",
       "      <th></th>\n",
       "      <th></th>\n",
       "      <th></th>\n",
       "      <th></th>\n",
       "    </tr>\n",
       "  </thead>\n",
       "  <tbody>\n",
       "    <tr>\n",
       "      <th>1948-01-01</th>\n",
       "      <td>0.0</td>\n",
       "      <td>0.0</td>\n",
       "      <td>0.0</td>\n",
       "      <td>0.0</td>\n",
       "    </tr>\n",
       "    <tr>\n",
       "      <th>1948-01-02</th>\n",
       "      <td>0.0</td>\n",
       "      <td>0.0</td>\n",
       "      <td>0.0</td>\n",
       "      <td>0.0</td>\n",
       "    </tr>\n",
       "    <tr>\n",
       "      <th>1948-01-08</th>\n",
       "      <td>0.0</td>\n",
       "      <td>0.0</td>\n",
       "      <td>0.0</td>\n",
       "      <td>0.0</td>\n",
       "    </tr>\n",
       "    <tr>\n",
       "      <th>1948-01-09</th>\n",
       "      <td>0.0</td>\n",
       "      <td>0.0</td>\n",
       "      <td>0.0</td>\n",
       "      <td>0.0</td>\n",
       "    </tr>\n",
       "    <tr>\n",
       "      <th>1948-01-10</th>\n",
       "      <td>0.0</td>\n",
       "      <td>0.0</td>\n",
       "      <td>0.0</td>\n",
       "      <td>0.0</td>\n",
       "    </tr>\n",
       "    <tr>\n",
       "      <th>...</th>\n",
       "      <td>...</td>\n",
       "      <td>...</td>\n",
       "      <td>...</td>\n",
       "      <td>...</td>\n",
       "    </tr>\n",
       "    <tr>\n",
       "      <th>2023-08-16</th>\n",
       "      <td>0.0</td>\n",
       "      <td>97.0</td>\n",
       "      <td>71.0</td>\n",
       "      <td>109.0</td>\n",
       "    </tr>\n",
       "    <tr>\n",
       "      <th>2023-08-17</th>\n",
       "      <td>0.0</td>\n",
       "      <td>109.0</td>\n",
       "      <td>74.0</td>\n",
       "      <td>109.0</td>\n",
       "    </tr>\n",
       "    <tr>\n",
       "      <th>2023-08-18</th>\n",
       "      <td>0.0</td>\n",
       "      <td>109.0</td>\n",
       "      <td>82.0</td>\n",
       "      <td>108.0</td>\n",
       "    </tr>\n",
       "    <tr>\n",
       "      <th>2023-08-19</th>\n",
       "      <td>0.0</td>\n",
       "      <td>108.0</td>\n",
       "      <td>85.0</td>\n",
       "      <td>109.0</td>\n",
       "    </tr>\n",
       "    <tr>\n",
       "      <th>2023-08-20</th>\n",
       "      <td>0.0</td>\n",
       "      <td>109.0</td>\n",
       "      <td>83.0</td>\n",
       "      <td>0.0</td>\n",
       "    </tr>\n",
       "  </tbody>\n",
       "</table>\n",
       "<p>27595 rows × 4 columns</p>\n",
       "</div>"
      ],
      "text/plain": [
       "            prec  max_temp  min_temp  target\n",
       "DATE                                        \n",
       "1948-01-01   0.0       0.0       0.0     0.0\n",
       "1948-01-02   0.0       0.0       0.0     0.0\n",
       "1948-01-08   0.0       0.0       0.0     0.0\n",
       "1948-01-09   0.0       0.0       0.0     0.0\n",
       "1948-01-10   0.0       0.0       0.0     0.0\n",
       "...          ...       ...       ...     ...\n",
       "2023-08-16   0.0      97.0      71.0   109.0\n",
       "2023-08-17   0.0     109.0      74.0   109.0\n",
       "2023-08-18   0.0     109.0      82.0   108.0\n",
       "2023-08-19   0.0     108.0      85.0   109.0\n",
       "2023-08-20   0.0     109.0      83.0     0.0\n",
       "\n",
       "[27595 rows x 4 columns]"
      ]
     },
     "execution_count": 32,
     "metadata": {},
     "output_type": "execute_result"
    }
   ],
   "source": [
    "core_values"
   ]
  },
  {
   "cell_type": "code",
   "execution_count": 33,
   "id": "4f036a75",
   "metadata": {},
   "outputs": [],
   "source": [
    "from sklearn.linear_model import Ridge\n",
    "reg = Ridge(alpha=.1)"
   ]
  },
  {
   "cell_type": "code",
   "execution_count": 34,
   "id": "3e3def7f",
   "metadata": {},
   "outputs": [],
   "source": [
    "predictors = [\"prec\",\"max_temp\",\"min_temp\"]"
   ]
  },
  {
   "cell_type": "code",
   "execution_count": 35,
   "id": "445e0dc2",
   "metadata": {},
   "outputs": [],
   "source": [
    "train = core_values.loc[:\"2020-12-31\"]"
   ]
  },
  {
   "cell_type": "code",
   "execution_count": 36,
   "id": "937217ab",
   "metadata": {},
   "outputs": [],
   "source": [
    "test = core_values.loc[\"2021-01-01\":]"
   ]
  },
  {
   "cell_type": "code",
   "execution_count": 37,
   "id": "975d81b5",
   "metadata": {},
   "outputs": [
    {
     "data": {
      "text/html": [
       "<style>#sk-container-id-1 {color: black;background-color: white;}#sk-container-id-1 pre{padding: 0;}#sk-container-id-1 div.sk-toggleable {background-color: white;}#sk-container-id-1 label.sk-toggleable__label {cursor: pointer;display: block;width: 100%;margin-bottom: 0;padding: 0.3em;box-sizing: border-box;text-align: center;}#sk-container-id-1 label.sk-toggleable__label-arrow:before {content: \"▸\";float: left;margin-right: 0.25em;color: #696969;}#sk-container-id-1 label.sk-toggleable__label-arrow:hover:before {color: black;}#sk-container-id-1 div.sk-estimator:hover label.sk-toggleable__label-arrow:before {color: black;}#sk-container-id-1 div.sk-toggleable__content {max-height: 0;max-width: 0;overflow: hidden;text-align: left;background-color: #f0f8ff;}#sk-container-id-1 div.sk-toggleable__content pre {margin: 0.2em;color: black;border-radius: 0.25em;background-color: #f0f8ff;}#sk-container-id-1 input.sk-toggleable__control:checked~div.sk-toggleable__content {max-height: 200px;max-width: 100%;overflow: auto;}#sk-container-id-1 input.sk-toggleable__control:checked~label.sk-toggleable__label-arrow:before {content: \"▾\";}#sk-container-id-1 div.sk-estimator input.sk-toggleable__control:checked~label.sk-toggleable__label {background-color: #d4ebff;}#sk-container-id-1 div.sk-label input.sk-toggleable__control:checked~label.sk-toggleable__label {background-color: #d4ebff;}#sk-container-id-1 input.sk-hidden--visually {border: 0;clip: rect(1px 1px 1px 1px);clip: rect(1px, 1px, 1px, 1px);height: 1px;margin: -1px;overflow: hidden;padding: 0;position: absolute;width: 1px;}#sk-container-id-1 div.sk-estimator {font-family: monospace;background-color: #f0f8ff;border: 1px dotted black;border-radius: 0.25em;box-sizing: border-box;margin-bottom: 0.5em;}#sk-container-id-1 div.sk-estimator:hover {background-color: #d4ebff;}#sk-container-id-1 div.sk-parallel-item::after {content: \"\";width: 100%;border-bottom: 1px solid gray;flex-grow: 1;}#sk-container-id-1 div.sk-label:hover label.sk-toggleable__label {background-color: #d4ebff;}#sk-container-id-1 div.sk-serial::before {content: \"\";position: absolute;border-left: 1px solid gray;box-sizing: border-box;top: 0;bottom: 0;left: 50%;z-index: 0;}#sk-container-id-1 div.sk-serial {display: flex;flex-direction: column;align-items: center;background-color: white;padding-right: 0.2em;padding-left: 0.2em;position: relative;}#sk-container-id-1 div.sk-item {position: relative;z-index: 1;}#sk-container-id-1 div.sk-parallel {display: flex;align-items: stretch;justify-content: center;background-color: white;position: relative;}#sk-container-id-1 div.sk-item::before, #sk-container-id-1 div.sk-parallel-item::before {content: \"\";position: absolute;border-left: 1px solid gray;box-sizing: border-box;top: 0;bottom: 0;left: 50%;z-index: -1;}#sk-container-id-1 div.sk-parallel-item {display: flex;flex-direction: column;z-index: 1;position: relative;background-color: white;}#sk-container-id-1 div.sk-parallel-item:first-child::after {align-self: flex-end;width: 50%;}#sk-container-id-1 div.sk-parallel-item:last-child::after {align-self: flex-start;width: 50%;}#sk-container-id-1 div.sk-parallel-item:only-child::after {width: 0;}#sk-container-id-1 div.sk-dashed-wrapped {border: 1px dashed gray;margin: 0 0.4em 0.5em 0.4em;box-sizing: border-box;padding-bottom: 0.4em;background-color: white;}#sk-container-id-1 div.sk-label label {font-family: monospace;font-weight: bold;display: inline-block;line-height: 1.2em;}#sk-container-id-1 div.sk-label-container {text-align: center;}#sk-container-id-1 div.sk-container {/* jupyter's `normalize.less` sets `[hidden] { display: none; }` but bootstrap.min.css set `[hidden] { display: none !important; }` so we also need the `!important` here to be able to override the default hidden behavior on the sphinx rendered scikit-learn.org. See: https://github.com/scikit-learn/scikit-learn/issues/21755 */display: inline-block !important;position: relative;}#sk-container-id-1 div.sk-text-repr-fallback {display: none;}</style><div id=\"sk-container-id-1\" class=\"sk-top-container\"><div class=\"sk-text-repr-fallback\"><pre>Ridge(alpha=0.1)</pre><b>In a Jupyter environment, please rerun this cell to show the HTML representation or trust the notebook. <br />On GitHub, the HTML representation is unable to render, please try loading this page with nbviewer.org.</b></div><div class=\"sk-container\" hidden><div class=\"sk-item\"><div class=\"sk-estimator sk-toggleable\"><input class=\"sk-toggleable__control sk-hidden--visually\" id=\"sk-estimator-id-1\" type=\"checkbox\" checked><label for=\"sk-estimator-id-1\" class=\"sk-toggleable__label sk-toggleable__label-arrow\">Ridge</label><div class=\"sk-toggleable__content\"><pre>Ridge(alpha=0.1)</pre></div></div></div></div></div>"
      ],
      "text/plain": [
       "Ridge(alpha=0.1)"
      ]
     },
     "execution_count": 37,
     "metadata": {},
     "output_type": "execute_result"
    }
   ],
   "source": [
    "reg.fit(train[predictors], train[\"target\"])"
   ]
  },
  {
   "cell_type": "code",
   "execution_count": 38,
   "id": "4df5f7f6",
   "metadata": {},
   "outputs": [],
   "source": [
    "predictions = reg.predict(test[predictors])"
   ]
  },
  {
   "cell_type": "code",
   "execution_count": 39,
   "id": "e1d4d641",
   "metadata": {},
   "outputs": [],
   "source": [
    "from sklearn.metrics import mean_absolute_error"
   ]
  },
  {
   "cell_type": "code",
   "execution_count": 40,
   "id": "fc23af86",
   "metadata": {},
   "outputs": [
    {
     "data": {
      "text/plain": [
       "5.4344993607459395"
      ]
     },
     "execution_count": 40,
     "metadata": {},
     "output_type": "execute_result"
    }
   ],
   "source": [
    "mean_absolute_error(test[\"target\"], predictions)"
   ]
  },
  {
   "cell_type": "code",
   "execution_count": 41,
   "id": "d79ce419",
   "metadata": {},
   "outputs": [],
   "source": [
    "combined = pd.concat([test[\"target\"], pd.Series(predictions, index = test.index)], axis = 1)\n",
    "combined.columns = [\"actual\", \"predictions\"]"
   ]
  },
  {
   "cell_type": "code",
   "execution_count": 42,
   "id": "28152a2e",
   "metadata": {},
   "outputs": [
    {
     "data": {
      "text/html": [
       "<div>\n",
       "<style scoped>\n",
       "    .dataframe tbody tr th:only-of-type {\n",
       "        vertical-align: middle;\n",
       "    }\n",
       "\n",
       "    .dataframe tbody tr th {\n",
       "        vertical-align: top;\n",
       "    }\n",
       "\n",
       "    .dataframe thead th {\n",
       "        text-align: right;\n",
       "    }\n",
       "</style>\n",
       "<table border=\"1\" class=\"dataframe\">\n",
       "  <thead>\n",
       "    <tr style=\"text-align: right;\">\n",
       "      <th></th>\n",
       "      <th>actual</th>\n",
       "      <th>predictions</th>\n",
       "    </tr>\n",
       "    <tr>\n",
       "      <th>DATE</th>\n",
       "      <th></th>\n",
       "      <th></th>\n",
       "    </tr>\n",
       "  </thead>\n",
       "  <tbody>\n",
       "    <tr>\n",
       "      <th>2021-01-01</th>\n",
       "      <td>56.0</td>\n",
       "      <td>42.786677</td>\n",
       "    </tr>\n",
       "    <tr>\n",
       "      <th>2021-01-02</th>\n",
       "      <td>65.0</td>\n",
       "      <td>56.148469</td>\n",
       "    </tr>\n",
       "    <tr>\n",
       "      <th>2021-01-03</th>\n",
       "      <td>65.0</td>\n",
       "      <td>63.560641</td>\n",
       "    </tr>\n",
       "    <tr>\n",
       "      <th>2021-01-04</th>\n",
       "      <td>66.0</td>\n",
       "      <td>63.220205</td>\n",
       "    </tr>\n",
       "    <tr>\n",
       "      <th>2021-01-05</th>\n",
       "      <td>60.0</td>\n",
       "      <td>64.384216</td>\n",
       "    </tr>\n",
       "    <tr>\n",
       "      <th>...</th>\n",
       "      <td>...</td>\n",
       "      <td>...</td>\n",
       "    </tr>\n",
       "    <tr>\n",
       "      <th>2023-08-16</th>\n",
       "      <td>109.0</td>\n",
       "      <td>95.872653</td>\n",
       "    </tr>\n",
       "    <tr>\n",
       "      <th>2023-08-17</th>\n",
       "      <td>109.0</td>\n",
       "      <td>106.266203</td>\n",
       "    </tr>\n",
       "    <tr>\n",
       "      <th>2023-08-18</th>\n",
       "      <td>108.0</td>\n",
       "      <td>107.627945</td>\n",
       "    </tr>\n",
       "    <tr>\n",
       "      <th>2023-08-19</th>\n",
       "      <td>109.0</td>\n",
       "      <td>107.315024</td>\n",
       "    </tr>\n",
       "    <tr>\n",
       "      <th>2023-08-20</th>\n",
       "      <td>0.0</td>\n",
       "      <td>107.798163</td>\n",
       "    </tr>\n",
       "  </tbody>\n",
       "</table>\n",
       "<p>962 rows × 2 columns</p>\n",
       "</div>"
      ],
      "text/plain": [
       "            actual  predictions\n",
       "DATE                           \n",
       "2021-01-01    56.0    42.786677\n",
       "2021-01-02    65.0    56.148469\n",
       "2021-01-03    65.0    63.560641\n",
       "2021-01-04    66.0    63.220205\n",
       "2021-01-05    60.0    64.384216\n",
       "...            ...          ...\n",
       "2023-08-16   109.0    95.872653\n",
       "2023-08-17   109.0   106.266203\n",
       "2023-08-18   108.0   107.627945\n",
       "2023-08-19   109.0   107.315024\n",
       "2023-08-20     0.0   107.798163\n",
       "\n",
       "[962 rows x 2 columns]"
      ]
     },
     "execution_count": 42,
     "metadata": {},
     "output_type": "execute_result"
    }
   ],
   "source": [
    "combined"
   ]
  },
  {
   "cell_type": "code",
   "execution_count": 43,
   "id": "bbc28a76",
   "metadata": {},
   "outputs": [
    {
     "data": {
      "text/plain": [
       "<Axes: xlabel='DATE'>"
      ]
     },
     "execution_count": 43,
     "metadata": {},
     "output_type": "execute_result"
    },
    {
     "data": {
      "image/png": "[encoded data removed]",
      "text/plain": [
       "<Figure size 640x480 with 1 Axes>"
      ]
     },
     "metadata": {},
     "output_type": "display_data"
    }
   ],
   "source": [
    "combined.plot()"
   ]
  },
  {
   "cell_type": "code",
   "execution_count": 44,
   "id": "58972466",
   "metadata": {},
   "outputs": [
    {
     "data": {
      "text/plain": [
       "array([-1.43785937,  0.82357469,  0.17021779])"
      ]
     },
     "execution_count": 44,
     "metadata": {},
     "output_type": "execute_result"
    }
   ],
   "source": [
    "reg.coef_"
   ]
  },
  {
   "cell_type": "code",
   "execution_count": 45,
   "id": "0dc54214",
   "metadata": {},
   "outputs": [],
   "source": [
    "def create_predictions(predictors, core_values, reg):\n",
    "    train = core_values.loc[:\"2020-12-31\"]\n",
    "    test = core_values.loc[\"2021-01-01\":]\n",
    "    reg.fit(train[predictors], train[\"target\"])\n",
    "    predictions = reg.predict(test[predictors])\n",
    "    error = mean_absolute_error(test[\"target\"], predictions)\n",
    "    combined = pd.concat([test[\"target\"], pd.Series(predictions, index = test.index)], axis = 1)\n",
    "    combined.columns = [\"actual\", \"predictions\"]\n",
    "    return error, combined"
   ]
  },
  {
   "cell_type": "code",
   "execution_count": 46,
   "id": "a6f0e84c",
   "metadata": {},
   "outputs": [],
   "source": [
    "core_values[\"month_max\"] = core_values[\"max_temp\"].rolling(30).mean()"
   ]
  },
  {
   "cell_type": "code",
   "execution_count": 47,
   "id": "7b9942b3",
   "metadata": {
    "scrolled": false
   },
   "outputs": [
    {
     "data": {
      "text/html": [
       "<div>\n",
       "<style scoped>\n",
       "    .dataframe tbody tr th:only-of-type {\n",
       "        vertical-align: middle;\n",
       "    }\n",
       "\n",
       "    .dataframe tbody tr th {\n",
       "        vertical-align: top;\n",
       "    }\n",
       "\n",
       "    .dataframe thead th {\n",
       "        text-align: right;\n",
       "    }\n",
       "</style>\n",
       "<table border=\"1\" class=\"dataframe\">\n",
       "  <thead>\n",
       "    <tr style=\"text-align: right;\">\n",
       "      <th></th>\n",
       "      <th>prec</th>\n",
       "      <th>max_temp</th>\n",
       "      <th>min_temp</th>\n",
       "      <th>target</th>\n",
       "      <th>month_max</th>\n",
       "    </tr>\n",
       "    <tr>\n",
       "      <th>DATE</th>\n",
       "      <th></th>\n",
       "      <th></th>\n",
       "      <th></th>\n",
       "      <th></th>\n",
       "      <th></th>\n",
       "    </tr>\n",
       "  </thead>\n",
       "  <tbody>\n",
       "    <tr>\n",
       "      <th>1948-01-01</th>\n",
       "      <td>0.0</td>\n",
       "      <td>0.0</td>\n",
       "      <td>0.0</td>\n",
       "      <td>0.0</td>\n",
       "      <td>NaN</td>\n",
       "    </tr>\n",
       "    <tr>\n",
       "      <th>1948-01-02</th>\n",
       "      <td>0.0</td>\n",
       "      <td>0.0</td>\n",
       "      <td>0.0</td>\n",
       "      <td>0.0</td>\n",
       "      <td>NaN</td>\n",
       "    </tr>\n",
       "    <tr>\n",
       "      <th>1948-01-08</th>\n",
       "      <td>0.0</td>\n",
       "      <td>0.0</td>\n",
       "      <td>0.0</td>\n",
       "      <td>0.0</td>\n",
       "      <td>NaN</td>\n",
       "    </tr>\n",
       "    <tr>\n",
       "      <th>1948-01-09</th>\n",
       "      <td>0.0</td>\n",
       "      <td>0.0</td>\n",
       "      <td>0.0</td>\n",
       "      <td>0.0</td>\n",
       "      <td>NaN</td>\n",
       "    </tr>\n",
       "    <tr>\n",
       "      <th>1948-01-10</th>\n",
       "      <td>0.0</td>\n",
       "      <td>0.0</td>\n",
       "      <td>0.0</td>\n",
       "      <td>0.0</td>\n",
       "      <td>NaN</td>\n",
       "    </tr>\n",
       "    <tr>\n",
       "      <th>...</th>\n",
       "      <td>...</td>\n",
       "      <td>...</td>\n",
       "      <td>...</td>\n",
       "      <td>...</td>\n",
       "      <td>...</td>\n",
       "    </tr>\n",
       "    <tr>\n",
       "      <th>2023-08-16</th>\n",
       "      <td>0.0</td>\n",
       "      <td>97.0</td>\n",
       "      <td>71.0</td>\n",
       "      <td>109.0</td>\n",
       "      <td>103.266667</td>\n",
       "    </tr>\n",
       "    <tr>\n",
       "      <th>2023-08-17</th>\n",
       "      <td>0.0</td>\n",
       "      <td>109.0</td>\n",
       "      <td>74.0</td>\n",
       "      <td>109.0</td>\n",
       "      <td>103.300000</td>\n",
       "    </tr>\n",
       "    <tr>\n",
       "      <th>2023-08-18</th>\n",
       "      <td>0.0</td>\n",
       "      <td>109.0</td>\n",
       "      <td>82.0</td>\n",
       "      <td>108.0</td>\n",
       "      <td>103.433333</td>\n",
       "    </tr>\n",
       "    <tr>\n",
       "      <th>2023-08-19</th>\n",
       "      <td>0.0</td>\n",
       "      <td>108.0</td>\n",
       "      <td>85.0</td>\n",
       "      <td>109.0</td>\n",
       "      <td>103.566667</td>\n",
       "    </tr>\n",
       "    <tr>\n",
       "      <th>2023-08-20</th>\n",
       "      <td>0.0</td>\n",
       "      <td>109.0</td>\n",
       "      <td>83.0</td>\n",
       "      <td>0.0</td>\n",
       "      <td>103.766667</td>\n",
       "    </tr>\n",
       "  </tbody>\n",
       "</table>\n",
       "<p>27595 rows × 5 columns</p>\n",
       "</div>"
      ],
      "text/plain": [
       "            prec  max_temp  min_temp  target   month_max\n",
       "DATE                                                    \n",
       "1948-01-01   0.0       0.0       0.0     0.0         NaN\n",
       "1948-01-02   0.0       0.0       0.0     0.0         NaN\n",
       "1948-01-08   0.0       0.0       0.0     0.0         NaN\n",
       "1948-01-09   0.0       0.0       0.0     0.0         NaN\n",
       "1948-01-10   0.0       0.0       0.0     0.0         NaN\n",
       "...          ...       ...       ...     ...         ...\n",
       "2023-08-16   0.0      97.0      71.0   109.0  103.266667\n",
       "2023-08-17   0.0     109.0      74.0   109.0  103.300000\n",
       "2023-08-18   0.0     109.0      82.0   108.0  103.433333\n",
       "2023-08-19   0.0     108.0      85.0   109.0  103.566667\n",
       "2023-08-20   0.0     109.0      83.0     0.0  103.766667\n",
       "\n",
       "[27595 rows x 5 columns]"
      ]
     },
     "execution_count": 47,
     "metadata": {},
     "output_type": "execute_result"
    }
   ],
   "source": [
    "core_values"
   ]
  },
  {
   "cell_type": "code",
   "execution_count": 48,
   "id": "cbf9b037",
   "metadata": {},
   "outputs": [],
   "source": [
    "core_values['month_max'] = core_values['month_max'].replace(['NaN', 'None', 'NA', ''], pd.NA)"
   ]
  },
  {
   "cell_type": "code",
   "execution_count": 49,
   "id": "7744c43d",
   "metadata": {},
   "outputs": [
    {
     "name": "stdout",
     "output_type": "stream",
     "text": [
      "prec         float64\n",
      "max_temp     float64\n",
      "min_temp     float64\n",
      "target       float64\n",
      "month_max    float64\n",
      "dtype: object\n"
     ]
    }
   ],
   "source": [
    "data_types = core_values.dtypes\n",
    "\n",
    "print(data_types)"
   ]
  },
  {
   "cell_type": "code",
   "execution_count": 50,
   "id": "2bce46b2",
   "metadata": {},
   "outputs": [
    {
     "data": {
      "text/plain": [
       "29"
      ]
     },
     "execution_count": 50,
     "metadata": {},
     "output_type": "execute_result"
    }
   ],
   "source": [
    "col = 'month_max'\n",
    "nan_count = core_values[col].isna().sum()\n",
    "nan_count"
   ]
  },
  {
   "cell_type": "code",
   "execution_count": 51,
   "id": "781714e2",
   "metadata": {},
   "outputs": [
    {
     "data": {
      "text/plain": [
       "29"
      ]
     },
     "execution_count": 51,
     "metadata": {},
     "output_type": "execute_result"
    }
   ],
   "source": [
    "col_1 = 'target'\n",
    "nan_count = core_values[col].isna().sum()\n",
    "nan_count"
   ]
  },
  {
   "cell_type": "code",
   "execution_count": 52,
   "id": "29f99d16",
   "metadata": {},
   "outputs": [],
   "source": [
    "#Ridge doesn't accept columns with NaNs so we're gonna replace the 'target' column's Nulls with 0s\n",
    "core_values['target'] = core_values['target'].fillna(0)"
   ]
  },
  {
   "cell_type": "code",
   "execution_count": 53,
   "id": "0cc7dda6",
   "metadata": {},
   "outputs": [],
   "source": [
    "#for a day, was the temp different that the monthly mean or not\n",
    "core_values[\"month_day_max\"] = core_values[\"month_max\"] / core_values[\"max_temp\"]"
   ]
  },
  {
   "cell_type": "code",
   "execution_count": 54,
   "id": "7f5127b1",
   "metadata": {},
   "outputs": [],
   "source": [
    "#ratio between the max and min. temperature\n",
    "core_values[\"max_min\"] = core_values[\"max_temp\"] / core_values[\"min_temp\"]"
   ]
  },
  {
   "cell_type": "code",
   "execution_count": 55,
   "id": "71e2dc8b",
   "metadata": {},
   "outputs": [],
   "source": [
    "predictors = [\"prec\",\"max_temp\",\"min_temp\",\"month_max\",\"month_day_max\",\"max_min\"]"
   ]
  },
  {
   "cell_type": "code",
   "execution_count": 56,
   "id": "4983f262",
   "metadata": {},
   "outputs": [],
   "source": [
    "core_values = core_values.iloc[20:,:].copy()"
   ]
  },
  {
   "cell_type": "code",
   "execution_count": 60,
   "id": "903a2b34",
   "metadata": {},
   "outputs": [],
   "source": [
    "#filling missing values with a specific strategy (e.g., using the mean of the column):\n",
    "core_values[predictors] = core_values[predictors].fillna(core_values[predictors].mean())"
   ]
  },
  {
   "cell_type": "code",
   "execution_count": 59,
   "id": "4411c2ba",
   "metadata": {},
   "outputs": [],
   "source": [
    "error, combined = create_predictions(predictors, core_values, reg)"
   ]
  },
  {
   "cell_type": "code",
   "execution_count": 61,
   "id": "67be672d",
   "metadata": {},
   "outputs": [
    {
     "data": {
      "text/plain": [
       "5.247425337894338"
      ]
     },
     "execution_count": 61,
     "metadata": {},
     "output_type": "execute_result"
    }
   ],
   "source": [
    "error\n",
    "#on avg, we are 5.2 degrees Farenheit away from predicting the actual max. temperature for tomorrow"
   ]
  },
  {
   "cell_type": "code",
   "execution_count": 63,
   "id": "c3a6f335",
   "metadata": {},
   "outputs": [
    {
     "data": {
      "text/plain": [
       "<Axes: xlabel='DATE'>"
      ]
     },
     "execution_count": 63,
     "metadata": {},
     "output_type": "execute_result"
    },
    {
     "data": {
      "image/png": "[encoded data removed]",
      "text/plain": [
       "<Figure size 640x480 with 1 Axes>"
      ]
     },
     "metadata": {},
     "output_type": "display_data"
    }
   ],
   "source": [
    "combined.plot()"
   ]
  },
  {
   "cell_type": "code",
   "execution_count": 73,
   "id": "bce2e81e",
   "metadata": {},
   "outputs": [],
   "source": [
    "#grouping temperatures by month\n",
    "\n",
    "core_values[\"mon_avg\"] = core_values.groupby(core_values.index.month)[\"max_temp\"].transform(lambda x: x.expanding(1).mean())"
   ]
  },
  {
   "cell_type": "code",
   "execution_count": 74,
   "id": "a46c9f02",
   "metadata": {},
   "outputs": [
    {
     "data": {
      "text/html": [
       "<div>\n",
       "<style scoped>\n",
       "    .dataframe tbody tr th:only-of-type {\n",
       "        vertical-align: middle;\n",
       "    }\n",
       "\n",
       "    .dataframe tbody tr th {\n",
       "        vertical-align: top;\n",
       "    }\n",
       "\n",
       "    .dataframe thead th {\n",
       "        text-align: right;\n",
       "    }\n",
       "</style>\n",
       "<table border=\"1\" class=\"dataframe\">\n",
       "  <thead>\n",
       "    <tr style=\"text-align: right;\">\n",
       "      <th></th>\n",
       "      <th>prec</th>\n",
       "      <th>max_temp</th>\n",
       "      <th>min_temp</th>\n",
       "      <th>target</th>\n",
       "      <th>month_max</th>\n",
       "      <th>month_day_max</th>\n",
       "      <th>max_min</th>\n",
       "      <th>mon_avg</th>\n",
       "    </tr>\n",
       "    <tr>\n",
       "      <th>DATE</th>\n",
       "      <th></th>\n",
       "      <th></th>\n",
       "      <th></th>\n",
       "      <th></th>\n",
       "      <th></th>\n",
       "      <th></th>\n",
       "      <th></th>\n",
       "      <th></th>\n",
       "    </tr>\n",
       "  </thead>\n",
       "  <tbody>\n",
       "    <tr>\n",
       "      <th>1948-01-26</th>\n",
       "      <td>0.0</td>\n",
       "      <td>0.0</td>\n",
       "      <td>0.0</td>\n",
       "      <td>0.0</td>\n",
       "      <td>71.590138</td>\n",
       "      <td>1.021360</td>\n",
       "      <td>1.431390</td>\n",
       "      <td>0.000000</td>\n",
       "    </tr>\n",
       "    <tr>\n",
       "      <th>1948-01-27</th>\n",
       "      <td>0.0</td>\n",
       "      <td>0.0</td>\n",
       "      <td>0.0</td>\n",
       "      <td>0.0</td>\n",
       "      <td>71.590138</td>\n",
       "      <td>1.021360</td>\n",
       "      <td>1.431390</td>\n",
       "      <td>0.000000</td>\n",
       "    </tr>\n",
       "    <tr>\n",
       "      <th>1948-01-28</th>\n",
       "      <td>0.0</td>\n",
       "      <td>0.0</td>\n",
       "      <td>0.0</td>\n",
       "      <td>0.0</td>\n",
       "      <td>71.590138</td>\n",
       "      <td>1.021360</td>\n",
       "      <td>1.431390</td>\n",
       "      <td>0.000000</td>\n",
       "    </tr>\n",
       "    <tr>\n",
       "      <th>1948-01-29</th>\n",
       "      <td>0.0</td>\n",
       "      <td>0.0</td>\n",
       "      <td>0.0</td>\n",
       "      <td>0.0</td>\n",
       "      <td>71.590138</td>\n",
       "      <td>1.021360</td>\n",
       "      <td>1.431390</td>\n",
       "      <td>0.000000</td>\n",
       "    </tr>\n",
       "    <tr>\n",
       "      <th>1948-01-30</th>\n",
       "      <td>0.0</td>\n",
       "      <td>0.0</td>\n",
       "      <td>0.0</td>\n",
       "      <td>0.0</td>\n",
       "      <td>71.590138</td>\n",
       "      <td>1.021360</td>\n",
       "      <td>1.431390</td>\n",
       "      <td>0.000000</td>\n",
       "    </tr>\n",
       "    <tr>\n",
       "      <th>...</th>\n",
       "      <td>...</td>\n",
       "      <td>...</td>\n",
       "      <td>...</td>\n",
       "      <td>...</td>\n",
       "      <td>...</td>\n",
       "      <td>...</td>\n",
       "      <td>...</td>\n",
       "      <td>...</td>\n",
       "    </tr>\n",
       "    <tr>\n",
       "      <th>2023-08-16</th>\n",
       "      <td>0.0</td>\n",
       "      <td>97.0</td>\n",
       "      <td>71.0</td>\n",
       "      <td>109.0</td>\n",
       "      <td>103.266667</td>\n",
       "      <td>1.064605</td>\n",
       "      <td>1.366197</td>\n",
       "      <td>89.729915</td>\n",
       "    </tr>\n",
       "    <tr>\n",
       "      <th>2023-08-17</th>\n",
       "      <td>0.0</td>\n",
       "      <td>109.0</td>\n",
       "      <td>74.0</td>\n",
       "      <td>109.0</td>\n",
       "      <td>103.300000</td>\n",
       "      <td>0.947706</td>\n",
       "      <td>1.472973</td>\n",
       "      <td>89.738146</td>\n",
       "    </tr>\n",
       "    <tr>\n",
       "      <th>2023-08-18</th>\n",
       "      <td>0.0</td>\n",
       "      <td>109.0</td>\n",
       "      <td>82.0</td>\n",
       "      <td>108.0</td>\n",
       "      <td>103.433333</td>\n",
       "      <td>0.948930</td>\n",
       "      <td>1.329268</td>\n",
       "      <td>89.746371</td>\n",
       "    </tr>\n",
       "    <tr>\n",
       "      <th>2023-08-19</th>\n",
       "      <td>0.0</td>\n",
       "      <td>108.0</td>\n",
       "      <td>85.0</td>\n",
       "      <td>109.0</td>\n",
       "      <td>103.566667</td>\n",
       "      <td>0.958951</td>\n",
       "      <td>1.270588</td>\n",
       "      <td>89.754161</td>\n",
       "    </tr>\n",
       "    <tr>\n",
       "      <th>2023-08-20</th>\n",
       "      <td>0.0</td>\n",
       "      <td>109.0</td>\n",
       "      <td>83.0</td>\n",
       "      <td>0.0</td>\n",
       "      <td>103.766667</td>\n",
       "      <td>0.951988</td>\n",
       "      <td>1.313253</td>\n",
       "      <td>89.762372</td>\n",
       "    </tr>\n",
       "  </tbody>\n",
       "</table>\n",
       "<p>27575 rows × 8 columns</p>\n",
       "</div>"
      ],
      "text/plain": [
       "            prec  max_temp  min_temp  target   month_max  month_day_max  \\\n",
       "DATE                                                                      \n",
       "1948-01-26   0.0       0.0       0.0     0.0   71.590138       1.021360   \n",
       "1948-01-27   0.0       0.0       0.0     0.0   71.590138       1.021360   \n",
       "1948-01-28   0.0       0.0       0.0     0.0   71.590138       1.021360   \n",
       "1948-01-29   0.0       0.0       0.0     0.0   71.590138       1.021360   \n",
       "1948-01-30   0.0       0.0       0.0     0.0   71.590138       1.021360   \n",
       "...          ...       ...       ...     ...         ...            ...   \n",
       "2023-08-16   0.0      97.0      71.0   109.0  103.266667       1.064605   \n",
       "2023-08-17   0.0     109.0      74.0   109.0  103.300000       0.947706   \n",
       "2023-08-18   0.0     109.0      82.0   108.0  103.433333       0.948930   \n",
       "2023-08-19   0.0     108.0      85.0   109.0  103.566667       0.958951   \n",
       "2023-08-20   0.0     109.0      83.0     0.0  103.766667       0.951988   \n",
       "\n",
       "             max_min    mon_avg  \n",
       "DATE                             \n",
       "1948-01-26  1.431390   0.000000  \n",
       "1948-01-27  1.431390   0.000000  \n",
       "1948-01-28  1.431390   0.000000  \n",
       "1948-01-29  1.431390   0.000000  \n",
       "1948-01-30  1.431390   0.000000  \n",
       "...              ...        ...  \n",
       "2023-08-16  1.366197  89.729915  \n",
       "2023-08-17  1.472973  89.738146  \n",
       "2023-08-18  1.329268  89.746371  \n",
       "2023-08-19  1.270588  89.754161  \n",
       "2023-08-20  1.313253  89.762372  \n",
       "\n",
       "[27575 rows x 8 columns]"
      ]
     },
     "execution_count": 74,
     "metadata": {},
     "output_type": "execute_result"
    }
   ],
   "source": [
    "core_values"
   ]
  },
  {
   "cell_type": "code",
   "execution_count": 80,
   "id": "35f1d68b",
   "metadata": {},
   "outputs": [],
   "source": [
    "core_values[\"day_of_year_avg\"] = core_values.groupby(core_values.index.day_of_year, group_keys=False)[\"max_temp\"].apply(lambda x: x.expanding(1).mean())"
   ]
  },
  {
   "cell_type": "code",
   "execution_count": 81,
   "id": "ece31a9e",
   "metadata": {},
   "outputs": [],
   "source": [
    "predictors = [\"prec\",\"max_temp\",\"min_temp\",\"month_max\",\"month_day_max\",\"max_min\",\"day_of_year_avg\",\"mon_avg\"]"
   ]
  },
  {
   "cell_type": "code",
   "execution_count": 83,
   "id": "8e59f201",
   "metadata": {},
   "outputs": [
    {
     "data": {
      "text/plain": [
       "5.247425337894338"
      ]
     },
     "execution_count": 83,
     "metadata": {},
     "output_type": "execute_result"
    }
   ],
   "source": [
    "error"
   ]
  },
  {
   "cell_type": "code",
   "execution_count": 85,
   "id": "8eded03f",
   "metadata": {},
   "outputs": [
    {
     "data": {
      "text/plain": [
       "array([-2.11991127,  0.61893486,  0.1213961 ,  0.27669239, -0.22971993,\n",
       "        0.93472472])"
      ]
     },
     "execution_count": 85,
     "metadata": {},
     "output_type": "execute_result"
    }
   ],
   "source": [
    "reg.coef_"
   ]
  },
  {
   "cell_type": "code",
   "execution_count": 84,
   "id": "49f5e233",
   "metadata": {},
   "outputs": [
    {
     "data": {
      "text/plain": [
       "prec               0.004069\n",
       "max_temp           0.956209\n",
       "min_temp           0.918001\n",
       "target             1.000000\n",
       "month_max          0.925814\n",
       "month_day_max     -0.267200\n",
       "max_min           -0.209648\n",
       "mon_avg            0.782672\n",
       "day_of_year_avg    0.806480\n",
       "Name: target, dtype: float64"
      ]
     },
     "execution_count": 84,
     "metadata": {},
     "output_type": "execute_result"
    }
   ],
   "source": [
    "core_values.corr()[\"target\"]"
   ]
  }
 ],
 "metadata": {
  "kernelspec": {
   "display_name": "Python 3 (ipykernel)",
   "language": "python",
   "name": "python3"
  },
  "language_info": {
   "codemirror_mode": {
    "name": "ipython",
    "version": 3
   },
   "file_extension": ".py",
   "mimetype": "text/x-python",
   "name": "python",
   "nbconvert_exporter": "python",
   "pygments_lexer": "ipython3",
   "version": "3.10.9"
  }
 },
 "nbformat": 4,
 "nbformat_minor": 5
}
